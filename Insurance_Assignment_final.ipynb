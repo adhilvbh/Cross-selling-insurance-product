{
  "nbformat": 4,
  "nbformat_minor": 0,
  "metadata": {
    "colab": {
      "name": "Insurance_Assignment final.ipynb",
      "provenance": [],
      "collapsed_sections": [],
      "toc_visible": true
    },
    "kernelspec": {
      "display_name": "Python 3",
      "language": "python",
      "name": "python3"
    },
    "language_info": {
      "codemirror_mode": {
        "name": "ipython",
        "version": 3
      },
      "file_extension": ".py",
      "mimetype": "text/x-python",
      "name": "python",
      "nbconvert_exporter": "python",
      "pygments_lexer": "ipython3",
      "version": "3.7.3"
    }
  },
  "cells": [
    {
      "cell_type": "code",
      "metadata": {
        "id": "WEo8_2fgt795"
      },
      "source": [
        "import numpy as np\n",
        "import pandas as pd\n",
        "import matplotlib.pyplot as plt\n",
        "import seaborn as sns\n",
        "from sklearn.model_selection import train_test_split\n",
        "from sklearn.metrics import accuracy_score,precision_score, recall_score\n",
        "from sklearn.metrics import confusion_matrix \n",
        "from sklearn.metrics import f1_score, roc_auc_score, roc_curve\n",
        "from sklearn.model_selection import RepeatedKFold\n",
        "from sklearn.model_selection import GridSearchCV\n",
        "from sklearn.preprocessing import StandardScaler"
      ],
      "execution_count": null,
      "outputs": []
    },
    {
      "cell_type": "code",
      "metadata": {
        "id": "vTbSPlu0uDaK"
      },
      "source": [
        "df = pd.read_csv(\"C:/Users/HP/Desktop/Insurance cross sell.csv\")"
      ],
      "execution_count": null,
      "outputs": []
    },
    {
      "cell_type": "code",
      "metadata": {
        "colab": {
          "base_uri": "https://localhost:8080/",
          "height": 202
        },
        "id": "GxKRleYHwO99",
        "outputId": "5c1b21f0-3248-40ed-ff45-0fae8ce2a996"
      },
      "source": [
        "df.head()"
      ],
      "execution_count": null,
      "outputs": [
        {
          "output_type": "execute_result",
          "data": {
            "text/html": [
              "<div>\n",
              "<style scoped>\n",
              "    .dataframe tbody tr th:only-of-type {\n",
              "        vertical-align: middle;\n",
              "    }\n",
              "\n",
              "    .dataframe tbody tr th {\n",
              "        vertical-align: top;\n",
              "    }\n",
              "\n",
              "    .dataframe thead th {\n",
              "        text-align: right;\n",
              "    }\n",
              "</style>\n",
              "<table border=\"1\" class=\"dataframe\">\n",
              "  <thead>\n",
              "    <tr style=\"text-align: right;\">\n",
              "      <th></th>\n",
              "      <th>id</th>\n",
              "      <th>Gender</th>\n",
              "      <th>Age</th>\n",
              "      <th>Driving_License</th>\n",
              "      <th>Region_Code</th>\n",
              "      <th>Previously_Insured</th>\n",
              "      <th>Vehicle_Age</th>\n",
              "      <th>Vehicle_Damage</th>\n",
              "      <th>Annual_Premium</th>\n",
              "      <th>Policy_Sales_Channel</th>\n",
              "      <th>Vintage</th>\n",
              "      <th>Response</th>\n",
              "    </tr>\n",
              "  </thead>\n",
              "  <tbody>\n",
              "    <tr>\n",
              "      <th>0</th>\n",
              "      <td>1</td>\n",
              "      <td>Male</td>\n",
              "      <td>44</td>\n",
              "      <td>1</td>\n",
              "      <td>28.0</td>\n",
              "      <td>0</td>\n",
              "      <td>&gt; 2 Years</td>\n",
              "      <td>Yes</td>\n",
              "      <td>40454.0</td>\n",
              "      <td>26.0</td>\n",
              "      <td>217</td>\n",
              "      <td>1</td>\n",
              "    </tr>\n",
              "    <tr>\n",
              "      <th>1</th>\n",
              "      <td>2</td>\n",
              "      <td>Male</td>\n",
              "      <td>76</td>\n",
              "      <td>1</td>\n",
              "      <td>3.0</td>\n",
              "      <td>0</td>\n",
              "      <td>1-2 Year</td>\n",
              "      <td>No</td>\n",
              "      <td>33536.0</td>\n",
              "      <td>26.0</td>\n",
              "      <td>183</td>\n",
              "      <td>0</td>\n",
              "    </tr>\n",
              "    <tr>\n",
              "      <th>2</th>\n",
              "      <td>3</td>\n",
              "      <td>Male</td>\n",
              "      <td>47</td>\n",
              "      <td>1</td>\n",
              "      <td>28.0</td>\n",
              "      <td>0</td>\n",
              "      <td>&gt; 2 Years</td>\n",
              "      <td>Yes</td>\n",
              "      <td>38294.0</td>\n",
              "      <td>26.0</td>\n",
              "      <td>27</td>\n",
              "      <td>1</td>\n",
              "    </tr>\n",
              "    <tr>\n",
              "      <th>3</th>\n",
              "      <td>4</td>\n",
              "      <td>Male</td>\n",
              "      <td>21</td>\n",
              "      <td>1</td>\n",
              "      <td>11.0</td>\n",
              "      <td>1</td>\n",
              "      <td>&lt; 1 Year</td>\n",
              "      <td>No</td>\n",
              "      <td>28619.0</td>\n",
              "      <td>152.0</td>\n",
              "      <td>203</td>\n",
              "      <td>0</td>\n",
              "    </tr>\n",
              "    <tr>\n",
              "      <th>4</th>\n",
              "      <td>5</td>\n",
              "      <td>Female</td>\n",
              "      <td>29</td>\n",
              "      <td>1</td>\n",
              "      <td>41.0</td>\n",
              "      <td>1</td>\n",
              "      <td>&lt; 1 Year</td>\n",
              "      <td>No</td>\n",
              "      <td>27496.0</td>\n",
              "      <td>152.0</td>\n",
              "      <td>39</td>\n",
              "      <td>0</td>\n",
              "    </tr>\n",
              "  </tbody>\n",
              "</table>\n",
              "</div>"
            ],
            "text/plain": [
              "   id  Gender  Age  Driving_License  Region_Code  Previously_Insured  \\\n",
              "0   1    Male   44                1         28.0                   0   \n",
              "1   2    Male   76                1          3.0                   0   \n",
              "2   3    Male   47                1         28.0                   0   \n",
              "3   4    Male   21                1         11.0                   1   \n",
              "4   5  Female   29                1         41.0                   1   \n",
              "\n",
              "  Vehicle_Age Vehicle_Damage  Annual_Premium  Policy_Sales_Channel  Vintage  \\\n",
              "0   > 2 Years            Yes         40454.0                  26.0      217   \n",
              "1    1-2 Year             No         33536.0                  26.0      183   \n",
              "2   > 2 Years            Yes         38294.0                  26.0       27   \n",
              "3    < 1 Year             No         28619.0                 152.0      203   \n",
              "4    < 1 Year             No         27496.0                 152.0       39   \n",
              "\n",
              "   Response  \n",
              "0         1  \n",
              "1         0  \n",
              "2         1  \n",
              "3         0  \n",
              "4         0  "
            ]
          },
          "metadata": {
            "tags": []
          },
          "execution_count": 3
        }
      ]
    },
    {
      "cell_type": "code",
      "metadata": {
        "colab": {
          "base_uri": "https://localhost:8080/"
        },
        "id": "w7JMD2aIwTr7",
        "outputId": "0efd4306-e06d-4d39-8f1a-cdc2e1fbc79a"
      },
      "source": [
        "df.dtypes"
      ],
      "execution_count": null,
      "outputs": [
        {
          "output_type": "execute_result",
          "data": {
            "text/plain": [
              "id                        int64\n",
              "Gender                   object\n",
              "Age                       int64\n",
              "Driving_License           int64\n",
              "Region_Code             float64\n",
              "Previously_Insured        int64\n",
              "Vehicle_Age              object\n",
              "Vehicle_Damage           object\n",
              "Annual_Premium          float64\n",
              "Policy_Sales_Channel    float64\n",
              "Vintage                   int64\n",
              "Response                  int64\n",
              "dtype: object"
            ]
          },
          "metadata": {
            "tags": []
          },
          "execution_count": 4
        }
      ]
    },
    {
      "cell_type": "code",
      "metadata": {
        "id": "Yb5s83uRwTv4"
      },
      "source": [
        "df['Vehicle_Age'] = df['Vehicle_Age'].replace(['> 2 Years'],'1')"
      ],
      "execution_count": null,
      "outputs": []
    },
    {
      "cell_type": "code",
      "metadata": {
        "id": "oMT6VhnpwTyx"
      },
      "source": [
        "df['Vehicle_Age'] = df['Vehicle_Age'].replace(['1-2 Year'],'0')"
      ],
      "execution_count": null,
      "outputs": []
    },
    {
      "cell_type": "code",
      "metadata": {
        "id": "8R3_1Qu0wT1J"
      },
      "source": [
        "df['Vehicle_Age'] = df['Vehicle_Age'].replace(['< 1 Year'],'-1')"
      ],
      "execution_count": null,
      "outputs": []
    },
    {
      "cell_type": "code",
      "metadata": {
        "id": "WGgeO2ZQwT37"
      },
      "source": [
        "df['Vehicle_Age'] = df['Vehicle_Age'].astype(float)"
      ],
      "execution_count": null,
      "outputs": []
    },
    {
      "cell_type": "code",
      "metadata": {
        "colab": {
          "base_uri": "https://localhost:8080/",
          "height": 202
        },
        "id": "BWee9P5OwpZJ",
        "outputId": "1c546924-416a-43b8-c08e-482ed8ff98fb"
      },
      "source": [
        "df.head()"
      ],
      "execution_count": null,
      "outputs": [
        {
          "output_type": "execute_result",
          "data": {
            "text/html": [
              "<div>\n",
              "<style scoped>\n",
              "    .dataframe tbody tr th:only-of-type {\n",
              "        vertical-align: middle;\n",
              "    }\n",
              "\n",
              "    .dataframe tbody tr th {\n",
              "        vertical-align: top;\n",
              "    }\n",
              "\n",
              "    .dataframe thead th {\n",
              "        text-align: right;\n",
              "    }\n",
              "</style>\n",
              "<table border=\"1\" class=\"dataframe\">\n",
              "  <thead>\n",
              "    <tr style=\"text-align: right;\">\n",
              "      <th></th>\n",
              "      <th>id</th>\n",
              "      <th>Gender</th>\n",
              "      <th>Age</th>\n",
              "      <th>Driving_License</th>\n",
              "      <th>Region_Code</th>\n",
              "      <th>Previously_Insured</th>\n",
              "      <th>Vehicle_Age</th>\n",
              "      <th>Vehicle_Damage</th>\n",
              "      <th>Annual_Premium</th>\n",
              "      <th>Policy_Sales_Channel</th>\n",
              "      <th>Vintage</th>\n",
              "      <th>Response</th>\n",
              "    </tr>\n",
              "  </thead>\n",
              "  <tbody>\n",
              "    <tr>\n",
              "      <th>0</th>\n",
              "      <td>1</td>\n",
              "      <td>Male</td>\n",
              "      <td>44</td>\n",
              "      <td>1</td>\n",
              "      <td>28.0</td>\n",
              "      <td>0</td>\n",
              "      <td>1.0</td>\n",
              "      <td>Yes</td>\n",
              "      <td>40454.0</td>\n",
              "      <td>26.0</td>\n",
              "      <td>217</td>\n",
              "      <td>1</td>\n",
              "    </tr>\n",
              "    <tr>\n",
              "      <th>1</th>\n",
              "      <td>2</td>\n",
              "      <td>Male</td>\n",
              "      <td>76</td>\n",
              "      <td>1</td>\n",
              "      <td>3.0</td>\n",
              "      <td>0</td>\n",
              "      <td>0.0</td>\n",
              "      <td>No</td>\n",
              "      <td>33536.0</td>\n",
              "      <td>26.0</td>\n",
              "      <td>183</td>\n",
              "      <td>0</td>\n",
              "    </tr>\n",
              "    <tr>\n",
              "      <th>2</th>\n",
              "      <td>3</td>\n",
              "      <td>Male</td>\n",
              "      <td>47</td>\n",
              "      <td>1</td>\n",
              "      <td>28.0</td>\n",
              "      <td>0</td>\n",
              "      <td>1.0</td>\n",
              "      <td>Yes</td>\n",
              "      <td>38294.0</td>\n",
              "      <td>26.0</td>\n",
              "      <td>27</td>\n",
              "      <td>1</td>\n",
              "    </tr>\n",
              "    <tr>\n",
              "      <th>3</th>\n",
              "      <td>4</td>\n",
              "      <td>Male</td>\n",
              "      <td>21</td>\n",
              "      <td>1</td>\n",
              "      <td>11.0</td>\n",
              "      <td>1</td>\n",
              "      <td>-1.0</td>\n",
              "      <td>No</td>\n",
              "      <td>28619.0</td>\n",
              "      <td>152.0</td>\n",
              "      <td>203</td>\n",
              "      <td>0</td>\n",
              "    </tr>\n",
              "    <tr>\n",
              "      <th>4</th>\n",
              "      <td>5</td>\n",
              "      <td>Female</td>\n",
              "      <td>29</td>\n",
              "      <td>1</td>\n",
              "      <td>41.0</td>\n",
              "      <td>1</td>\n",
              "      <td>-1.0</td>\n",
              "      <td>No</td>\n",
              "      <td>27496.0</td>\n",
              "      <td>152.0</td>\n",
              "      <td>39</td>\n",
              "      <td>0</td>\n",
              "    </tr>\n",
              "  </tbody>\n",
              "</table>\n",
              "</div>"
            ],
            "text/plain": [
              "   id  Gender  Age  Driving_License  Region_Code  Previously_Insured  \\\n",
              "0   1    Male   44                1         28.0                   0   \n",
              "1   2    Male   76                1          3.0                   0   \n",
              "2   3    Male   47                1         28.0                   0   \n",
              "3   4    Male   21                1         11.0                   1   \n",
              "4   5  Female   29                1         41.0                   1   \n",
              "\n",
              "   Vehicle_Age Vehicle_Damage  Annual_Premium  Policy_Sales_Channel  Vintage  \\\n",
              "0          1.0            Yes         40454.0                  26.0      217   \n",
              "1          0.0             No         33536.0                  26.0      183   \n",
              "2          1.0            Yes         38294.0                  26.0       27   \n",
              "3         -1.0             No         28619.0                 152.0      203   \n",
              "4         -1.0             No         27496.0                 152.0       39   \n",
              "\n",
              "   Response  \n",
              "0         1  \n",
              "1         0  \n",
              "2         1  \n",
              "3         0  \n",
              "4         0  "
            ]
          },
          "metadata": {
            "tags": []
          },
          "execution_count": 9
        }
      ]
    },
    {
      "cell_type": "code",
      "metadata": {
        "id": "uEK6ukXewseN"
      },
      "source": [
        "df['Vehicle_Damage'] = df['Vehicle_Damage'].replace(['Yes'],'1')"
      ],
      "execution_count": null,
      "outputs": []
    },
    {
      "cell_type": "code",
      "metadata": {
        "id": "VlVwsorIwwsN"
      },
      "source": [
        "df['Vehicle_Damage'] = df['Vehicle_Damage'].replace(['No'],'0')"
      ],
      "execution_count": null,
      "outputs": []
    },
    {
      "cell_type": "code",
      "metadata": {
        "id": "DmLBXitnwzqx"
      },
      "source": [
        "df['Vehicle_Damage'] = df['Vehicle_Damage'].astype(float)\n"
      ],
      "execution_count": null,
      "outputs": []
    },
    {
      "cell_type": "code",
      "metadata": {
        "colab": {
          "base_uri": "https://localhost:8080/"
        },
        "id": "68Qw62Uow2Dp",
        "outputId": "35f54f0b-8fc8-4e85-9340-41de9423dc77"
      },
      "source": [
        "df.dtypes"
      ],
      "execution_count": null,
      "outputs": [
        {
          "output_type": "execute_result",
          "data": {
            "text/plain": [
              "id                        int64\n",
              "Gender                   object\n",
              "Age                       int64\n",
              "Driving_License           int64\n",
              "Region_Code             float64\n",
              "Previously_Insured        int64\n",
              "Vehicle_Age             float64\n",
              "Vehicle_Damage          float64\n",
              "Annual_Premium          float64\n",
              "Policy_Sales_Channel    float64\n",
              "Vintage                   int64\n",
              "Response                  int64\n",
              "dtype: object"
            ]
          },
          "metadata": {
            "tags": []
          },
          "execution_count": 13
        }
      ]
    },
    {
      "cell_type": "code",
      "metadata": {
        "colab": {
          "base_uri": "https://localhost:8080/",
          "height": 202
        },
        "id": "VhqnI84xw6HZ",
        "outputId": "22e21a8e-1898-45e1-8177-d894ed75af68"
      },
      "source": [
        "df.head()"
      ],
      "execution_count": null,
      "outputs": [
        {
          "output_type": "execute_result",
          "data": {
            "text/html": [
              "<div>\n",
              "<style scoped>\n",
              "    .dataframe tbody tr th:only-of-type {\n",
              "        vertical-align: middle;\n",
              "    }\n",
              "\n",
              "    .dataframe tbody tr th {\n",
              "        vertical-align: top;\n",
              "    }\n",
              "\n",
              "    .dataframe thead th {\n",
              "        text-align: right;\n",
              "    }\n",
              "</style>\n",
              "<table border=\"1\" class=\"dataframe\">\n",
              "  <thead>\n",
              "    <tr style=\"text-align: right;\">\n",
              "      <th></th>\n",
              "      <th>id</th>\n",
              "      <th>Gender</th>\n",
              "      <th>Age</th>\n",
              "      <th>Driving_License</th>\n",
              "      <th>Region_Code</th>\n",
              "      <th>Previously_Insured</th>\n",
              "      <th>Vehicle_Age</th>\n",
              "      <th>Vehicle_Damage</th>\n",
              "      <th>Annual_Premium</th>\n",
              "      <th>Policy_Sales_Channel</th>\n",
              "      <th>Vintage</th>\n",
              "      <th>Response</th>\n",
              "    </tr>\n",
              "  </thead>\n",
              "  <tbody>\n",
              "    <tr>\n",
              "      <th>0</th>\n",
              "      <td>1</td>\n",
              "      <td>Male</td>\n",
              "      <td>44</td>\n",
              "      <td>1</td>\n",
              "      <td>28.0</td>\n",
              "      <td>0</td>\n",
              "      <td>1.0</td>\n",
              "      <td>1.0</td>\n",
              "      <td>40454.0</td>\n",
              "      <td>26.0</td>\n",
              "      <td>217</td>\n",
              "      <td>1</td>\n",
              "    </tr>\n",
              "    <tr>\n",
              "      <th>1</th>\n",
              "      <td>2</td>\n",
              "      <td>Male</td>\n",
              "      <td>76</td>\n",
              "      <td>1</td>\n",
              "      <td>3.0</td>\n",
              "      <td>0</td>\n",
              "      <td>0.0</td>\n",
              "      <td>0.0</td>\n",
              "      <td>33536.0</td>\n",
              "      <td>26.0</td>\n",
              "      <td>183</td>\n",
              "      <td>0</td>\n",
              "    </tr>\n",
              "    <tr>\n",
              "      <th>2</th>\n",
              "      <td>3</td>\n",
              "      <td>Male</td>\n",
              "      <td>47</td>\n",
              "      <td>1</td>\n",
              "      <td>28.0</td>\n",
              "      <td>0</td>\n",
              "      <td>1.0</td>\n",
              "      <td>1.0</td>\n",
              "      <td>38294.0</td>\n",
              "      <td>26.0</td>\n",
              "      <td>27</td>\n",
              "      <td>1</td>\n",
              "    </tr>\n",
              "    <tr>\n",
              "      <th>3</th>\n",
              "      <td>4</td>\n",
              "      <td>Male</td>\n",
              "      <td>21</td>\n",
              "      <td>1</td>\n",
              "      <td>11.0</td>\n",
              "      <td>1</td>\n",
              "      <td>-1.0</td>\n",
              "      <td>0.0</td>\n",
              "      <td>28619.0</td>\n",
              "      <td>152.0</td>\n",
              "      <td>203</td>\n",
              "      <td>0</td>\n",
              "    </tr>\n",
              "    <tr>\n",
              "      <th>4</th>\n",
              "      <td>5</td>\n",
              "      <td>Female</td>\n",
              "      <td>29</td>\n",
              "      <td>1</td>\n",
              "      <td>41.0</td>\n",
              "      <td>1</td>\n",
              "      <td>-1.0</td>\n",
              "      <td>0.0</td>\n",
              "      <td>27496.0</td>\n",
              "      <td>152.0</td>\n",
              "      <td>39</td>\n",
              "      <td>0</td>\n",
              "    </tr>\n",
              "  </tbody>\n",
              "</table>\n",
              "</div>"
            ],
            "text/plain": [
              "   id  Gender  Age  Driving_License  Region_Code  Previously_Insured  \\\n",
              "0   1    Male   44                1         28.0                   0   \n",
              "1   2    Male   76                1          3.0                   0   \n",
              "2   3    Male   47                1         28.0                   0   \n",
              "3   4    Male   21                1         11.0                   1   \n",
              "4   5  Female   29                1         41.0                   1   \n",
              "\n",
              "   Vehicle_Age  Vehicle_Damage  Annual_Premium  Policy_Sales_Channel  Vintage  \\\n",
              "0          1.0             1.0         40454.0                  26.0      217   \n",
              "1          0.0             0.0         33536.0                  26.0      183   \n",
              "2          1.0             1.0         38294.0                  26.0       27   \n",
              "3         -1.0             0.0         28619.0                 152.0      203   \n",
              "4         -1.0             0.0         27496.0                 152.0       39   \n",
              "\n",
              "   Response  \n",
              "0         1  \n",
              "1         0  \n",
              "2         1  \n",
              "3         0  \n",
              "4         0  "
            ]
          },
          "metadata": {
            "tags": []
          },
          "execution_count": 14
        }
      ]
    },
    {
      "cell_type": "code",
      "metadata": {
        "colab": {
          "base_uri": "https://localhost:8080/",
          "height": 314
        },
        "id": "60NEQW5ixAAK",
        "outputId": "4d3bfcb1-98be-445f-bb4b-dd0ed8e903d0"
      },
      "source": [
        "df.describe()"
      ],
      "execution_count": null,
      "outputs": [
        {
          "output_type": "execute_result",
          "data": {
            "text/html": [
              "<div>\n",
              "<style scoped>\n",
              "    .dataframe tbody tr th:only-of-type {\n",
              "        vertical-align: middle;\n",
              "    }\n",
              "\n",
              "    .dataframe tbody tr th {\n",
              "        vertical-align: top;\n",
              "    }\n",
              "\n",
              "    .dataframe thead th {\n",
              "        text-align: right;\n",
              "    }\n",
              "</style>\n",
              "<table border=\"1\" class=\"dataframe\">\n",
              "  <thead>\n",
              "    <tr style=\"text-align: right;\">\n",
              "      <th></th>\n",
              "      <th>id</th>\n",
              "      <th>Age</th>\n",
              "      <th>Driving_License</th>\n",
              "      <th>Region_Code</th>\n",
              "      <th>Previously_Insured</th>\n",
              "      <th>Vehicle_Age</th>\n",
              "      <th>Vehicle_Damage</th>\n",
              "      <th>Annual_Premium</th>\n",
              "      <th>Policy_Sales_Channel</th>\n",
              "      <th>Vintage</th>\n",
              "      <th>Response</th>\n",
              "    </tr>\n",
              "  </thead>\n",
              "  <tbody>\n",
              "    <tr>\n",
              "      <th>count</th>\n",
              "      <td>381109.000000</td>\n",
              "      <td>381109.000000</td>\n",
              "      <td>381109.000000</td>\n",
              "      <td>381109.000000</td>\n",
              "      <td>381109.000000</td>\n",
              "      <td>381109.000000</td>\n",
              "      <td>381109.000000</td>\n",
              "      <td>381109.000000</td>\n",
              "      <td>381109.000000</td>\n",
              "      <td>381109.000000</td>\n",
              "      <td>381109.000000</td>\n",
              "    </tr>\n",
              "    <tr>\n",
              "      <th>mean</th>\n",
              "      <td>190555.000000</td>\n",
              "      <td>38.822584</td>\n",
              "      <td>0.997869</td>\n",
              "      <td>26.388807</td>\n",
              "      <td>0.458210</td>\n",
              "      <td>-0.390384</td>\n",
              "      <td>0.504877</td>\n",
              "      <td>30564.389581</td>\n",
              "      <td>112.034295</td>\n",
              "      <td>154.347397</td>\n",
              "      <td>0.122563</td>\n",
              "    </tr>\n",
              "    <tr>\n",
              "      <th>std</th>\n",
              "      <td>110016.836208</td>\n",
              "      <td>15.511611</td>\n",
              "      <td>0.046110</td>\n",
              "      <td>13.229888</td>\n",
              "      <td>0.498251</td>\n",
              "      <td>0.567439</td>\n",
              "      <td>0.499977</td>\n",
              "      <td>17213.155057</td>\n",
              "      <td>54.203995</td>\n",
              "      <td>83.671304</td>\n",
              "      <td>0.327936</td>\n",
              "    </tr>\n",
              "    <tr>\n",
              "      <th>min</th>\n",
              "      <td>1.000000</td>\n",
              "      <td>20.000000</td>\n",
              "      <td>0.000000</td>\n",
              "      <td>0.000000</td>\n",
              "      <td>0.000000</td>\n",
              "      <td>-1.000000</td>\n",
              "      <td>0.000000</td>\n",
              "      <td>2630.000000</td>\n",
              "      <td>1.000000</td>\n",
              "      <td>10.000000</td>\n",
              "      <td>0.000000</td>\n",
              "    </tr>\n",
              "    <tr>\n",
              "      <th>25%</th>\n",
              "      <td>95278.000000</td>\n",
              "      <td>25.000000</td>\n",
              "      <td>1.000000</td>\n",
              "      <td>15.000000</td>\n",
              "      <td>0.000000</td>\n",
              "      <td>-1.000000</td>\n",
              "      <td>0.000000</td>\n",
              "      <td>24405.000000</td>\n",
              "      <td>29.000000</td>\n",
              "      <td>82.000000</td>\n",
              "      <td>0.000000</td>\n",
              "    </tr>\n",
              "    <tr>\n",
              "      <th>50%</th>\n",
              "      <td>190555.000000</td>\n",
              "      <td>36.000000</td>\n",
              "      <td>1.000000</td>\n",
              "      <td>28.000000</td>\n",
              "      <td>0.000000</td>\n",
              "      <td>0.000000</td>\n",
              "      <td>1.000000</td>\n",
              "      <td>31669.000000</td>\n",
              "      <td>133.000000</td>\n",
              "      <td>154.000000</td>\n",
              "      <td>0.000000</td>\n",
              "    </tr>\n",
              "    <tr>\n",
              "      <th>75%</th>\n",
              "      <td>285832.000000</td>\n",
              "      <td>49.000000</td>\n",
              "      <td>1.000000</td>\n",
              "      <td>35.000000</td>\n",
              "      <td>1.000000</td>\n",
              "      <td>0.000000</td>\n",
              "      <td>1.000000</td>\n",
              "      <td>39400.000000</td>\n",
              "      <td>152.000000</td>\n",
              "      <td>227.000000</td>\n",
              "      <td>0.000000</td>\n",
              "    </tr>\n",
              "    <tr>\n",
              "      <th>max</th>\n",
              "      <td>381109.000000</td>\n",
              "      <td>85.000000</td>\n",
              "      <td>1.000000</td>\n",
              "      <td>52.000000</td>\n",
              "      <td>1.000000</td>\n",
              "      <td>1.000000</td>\n",
              "      <td>1.000000</td>\n",
              "      <td>540165.000000</td>\n",
              "      <td>163.000000</td>\n",
              "      <td>299.000000</td>\n",
              "      <td>1.000000</td>\n",
              "    </tr>\n",
              "  </tbody>\n",
              "</table>\n",
              "</div>"
            ],
            "text/plain": [
              "                  id            Age  Driving_License    Region_Code  \\\n",
              "count  381109.000000  381109.000000    381109.000000  381109.000000   \n",
              "mean   190555.000000      38.822584         0.997869      26.388807   \n",
              "std    110016.836208      15.511611         0.046110      13.229888   \n",
              "min         1.000000      20.000000         0.000000       0.000000   \n",
              "25%     95278.000000      25.000000         1.000000      15.000000   \n",
              "50%    190555.000000      36.000000         1.000000      28.000000   \n",
              "75%    285832.000000      49.000000         1.000000      35.000000   \n",
              "max    381109.000000      85.000000         1.000000      52.000000   \n",
              "\n",
              "       Previously_Insured    Vehicle_Age  Vehicle_Damage  Annual_Premium  \\\n",
              "count       381109.000000  381109.000000   381109.000000   381109.000000   \n",
              "mean             0.458210      -0.390384        0.504877    30564.389581   \n",
              "std              0.498251       0.567439        0.499977    17213.155057   \n",
              "min              0.000000      -1.000000        0.000000     2630.000000   \n",
              "25%              0.000000      -1.000000        0.000000    24405.000000   \n",
              "50%              0.000000       0.000000        1.000000    31669.000000   \n",
              "75%              1.000000       0.000000        1.000000    39400.000000   \n",
              "max              1.000000       1.000000        1.000000   540165.000000   \n",
              "\n",
              "       Policy_Sales_Channel        Vintage       Response  \n",
              "count         381109.000000  381109.000000  381109.000000  \n",
              "mean             112.034295     154.347397       0.122563  \n",
              "std               54.203995      83.671304       0.327936  \n",
              "min                1.000000      10.000000       0.000000  \n",
              "25%               29.000000      82.000000       0.000000  \n",
              "50%              133.000000     154.000000       0.000000  \n",
              "75%              152.000000     227.000000       0.000000  \n",
              "max              163.000000     299.000000       1.000000  "
            ]
          },
          "metadata": {
            "tags": []
          },
          "execution_count": 15
        }
      ]
    },
    {
      "cell_type": "code",
      "metadata": {
        "colab": {
          "base_uri": "https://localhost:8080/"
        },
        "id": "skfdPj3uxDej",
        "outputId": "0bbcfdbc-f5b0-4700-9eaa-a94c28a6e2e5"
      },
      "source": [
        "df.shape"
      ],
      "execution_count": null,
      "outputs": [
        {
          "output_type": "execute_result",
          "data": {
            "text/plain": [
              "(381109, 12)"
            ]
          },
          "metadata": {
            "tags": []
          },
          "execution_count": 16
        }
      ]
    },
    {
      "cell_type": "code",
      "metadata": {
        "colab": {
          "base_uri": "https://localhost:8080/",
          "height": 386
        },
        "id": "A_9jyYRgxGHm",
        "outputId": "32c56ce0-722e-4a5a-ae05-478762e8b533"
      },
      "source": [
        "df.corr()"
      ],
      "execution_count": null,
      "outputs": [
        {
          "output_type": "execute_result",
          "data": {
            "text/html": [
              "<div>\n",
              "<style scoped>\n",
              "    .dataframe tbody tr th:only-of-type {\n",
              "        vertical-align: middle;\n",
              "    }\n",
              "\n",
              "    .dataframe tbody tr th {\n",
              "        vertical-align: top;\n",
              "    }\n",
              "\n",
              "    .dataframe thead th {\n",
              "        text-align: right;\n",
              "    }\n",
              "</style>\n",
              "<table border=\"1\" class=\"dataframe\">\n",
              "  <thead>\n",
              "    <tr style=\"text-align: right;\">\n",
              "      <th></th>\n",
              "      <th>id</th>\n",
              "      <th>Age</th>\n",
              "      <th>Driving_License</th>\n",
              "      <th>Region_Code</th>\n",
              "      <th>Previously_Insured</th>\n",
              "      <th>Vehicle_Age</th>\n",
              "      <th>Vehicle_Damage</th>\n",
              "      <th>Annual_Premium</th>\n",
              "      <th>Policy_Sales_Channel</th>\n",
              "      <th>Vintage</th>\n",
              "      <th>Response</th>\n",
              "    </tr>\n",
              "  </thead>\n",
              "  <tbody>\n",
              "    <tr>\n",
              "      <th>id</th>\n",
              "      <td>1.000000</td>\n",
              "      <td>0.001561</td>\n",
              "      <td>-0.000564</td>\n",
              "      <td>-0.000572</td>\n",
              "      <td>0.002457</td>\n",
              "      <td>0.000878</td>\n",
              "      <td>-0.001507</td>\n",
              "      <td>0.003027</td>\n",
              "      <td>-0.002837</td>\n",
              "      <td>-0.000630</td>\n",
              "      <td>-0.001368</td>\n",
              "    </tr>\n",
              "    <tr>\n",
              "      <th>Age</th>\n",
              "      <td>0.001561</td>\n",
              "      <td>1.000000</td>\n",
              "      <td>-0.079782</td>\n",
              "      <td>0.042574</td>\n",
              "      <td>-0.254682</td>\n",
              "      <td>0.765790</td>\n",
              "      <td>0.267534</td>\n",
              "      <td>0.067507</td>\n",
              "      <td>-0.577826</td>\n",
              "      <td>-0.001264</td>\n",
              "      <td>0.111147</td>\n",
              "    </tr>\n",
              "    <tr>\n",
              "      <th>Driving_License</th>\n",
              "      <td>-0.000564</td>\n",
              "      <td>-0.079782</td>\n",
              "      <td>1.000000</td>\n",
              "      <td>-0.001081</td>\n",
              "      <td>0.014969</td>\n",
              "      <td>-0.037306</td>\n",
              "      <td>-0.016622</td>\n",
              "      <td>-0.011906</td>\n",
              "      <td>0.043731</td>\n",
              "      <td>-0.000848</td>\n",
              "      <td>0.010155</td>\n",
              "    </tr>\n",
              "    <tr>\n",
              "      <th>Region_Code</th>\n",
              "      <td>-0.000572</td>\n",
              "      <td>0.042574</td>\n",
              "      <td>-0.001081</td>\n",
              "      <td>1.000000</td>\n",
              "      <td>-0.024659</td>\n",
              "      <td>0.043778</td>\n",
              "      <td>0.028235</td>\n",
              "      <td>-0.010588</td>\n",
              "      <td>-0.042420</td>\n",
              "      <td>-0.002750</td>\n",
              "      <td>0.010570</td>\n",
              "    </tr>\n",
              "    <tr>\n",
              "      <th>Previously_Insured</th>\n",
              "      <td>0.002457</td>\n",
              "      <td>-0.254682</td>\n",
              "      <td>0.014969</td>\n",
              "      <td>-0.024659</td>\n",
              "      <td>1.000000</td>\n",
              "      <td>-0.380873</td>\n",
              "      <td>-0.824143</td>\n",
              "      <td>0.004269</td>\n",
              "      <td>0.219381</td>\n",
              "      <td>0.002537</td>\n",
              "      <td>-0.341170</td>\n",
              "    </tr>\n",
              "    <tr>\n",
              "      <th>Vehicle_Age</th>\n",
              "      <td>0.000878</td>\n",
              "      <td>0.765790</td>\n",
              "      <td>-0.037306</td>\n",
              "      <td>0.043778</td>\n",
              "      <td>-0.380873</td>\n",
              "      <td>1.000000</td>\n",
              "      <td>0.396873</td>\n",
              "      <td>0.041580</td>\n",
              "      <td>-0.550663</td>\n",
              "      <td>-0.001892</td>\n",
              "      <td>0.221874</td>\n",
              "    </tr>\n",
              "    <tr>\n",
              "      <th>Vehicle_Damage</th>\n",
              "      <td>-0.001507</td>\n",
              "      <td>0.267534</td>\n",
              "      <td>-0.016622</td>\n",
              "      <td>0.028235</td>\n",
              "      <td>-0.824143</td>\n",
              "      <td>0.396873</td>\n",
              "      <td>1.000000</td>\n",
              "      <td>0.009349</td>\n",
              "      <td>-0.224377</td>\n",
              "      <td>-0.002064</td>\n",
              "      <td>0.354400</td>\n",
              "    </tr>\n",
              "    <tr>\n",
              "      <th>Annual_Premium</th>\n",
              "      <td>0.003027</td>\n",
              "      <td>0.067507</td>\n",
              "      <td>-0.011906</td>\n",
              "      <td>-0.010588</td>\n",
              "      <td>0.004269</td>\n",
              "      <td>0.041580</td>\n",
              "      <td>0.009349</td>\n",
              "      <td>1.000000</td>\n",
              "      <td>-0.113247</td>\n",
              "      <td>-0.000608</td>\n",
              "      <td>0.022575</td>\n",
              "    </tr>\n",
              "    <tr>\n",
              "      <th>Policy_Sales_Channel</th>\n",
              "      <td>-0.002837</td>\n",
              "      <td>-0.577826</td>\n",
              "      <td>0.043731</td>\n",
              "      <td>-0.042420</td>\n",
              "      <td>0.219381</td>\n",
              "      <td>-0.550663</td>\n",
              "      <td>-0.224377</td>\n",
              "      <td>-0.113247</td>\n",
              "      <td>1.000000</td>\n",
              "      <td>0.000002</td>\n",
              "      <td>-0.139042</td>\n",
              "    </tr>\n",
              "    <tr>\n",
              "      <th>Vintage</th>\n",
              "      <td>-0.000630</td>\n",
              "      <td>-0.001264</td>\n",
              "      <td>-0.000848</td>\n",
              "      <td>-0.002750</td>\n",
              "      <td>0.002537</td>\n",
              "      <td>-0.001892</td>\n",
              "      <td>-0.002064</td>\n",
              "      <td>-0.000608</td>\n",
              "      <td>0.000002</td>\n",
              "      <td>1.000000</td>\n",
              "      <td>-0.001050</td>\n",
              "    </tr>\n",
              "    <tr>\n",
              "      <th>Response</th>\n",
              "      <td>-0.001368</td>\n",
              "      <td>0.111147</td>\n",
              "      <td>0.010155</td>\n",
              "      <td>0.010570</td>\n",
              "      <td>-0.341170</td>\n",
              "      <td>0.221874</td>\n",
              "      <td>0.354400</td>\n",
              "      <td>0.022575</td>\n",
              "      <td>-0.139042</td>\n",
              "      <td>-0.001050</td>\n",
              "      <td>1.000000</td>\n",
              "    </tr>\n",
              "  </tbody>\n",
              "</table>\n",
              "</div>"
            ],
            "text/plain": [
              "                            id       Age  Driving_License  Region_Code  \\\n",
              "id                    1.000000  0.001561        -0.000564    -0.000572   \n",
              "Age                   0.001561  1.000000        -0.079782     0.042574   \n",
              "Driving_License      -0.000564 -0.079782         1.000000    -0.001081   \n",
              "Region_Code          -0.000572  0.042574        -0.001081     1.000000   \n",
              "Previously_Insured    0.002457 -0.254682         0.014969    -0.024659   \n",
              "Vehicle_Age           0.000878  0.765790        -0.037306     0.043778   \n",
              "Vehicle_Damage       -0.001507  0.267534        -0.016622     0.028235   \n",
              "Annual_Premium        0.003027  0.067507        -0.011906    -0.010588   \n",
              "Policy_Sales_Channel -0.002837 -0.577826         0.043731    -0.042420   \n",
              "Vintage              -0.000630 -0.001264        -0.000848    -0.002750   \n",
              "Response             -0.001368  0.111147         0.010155     0.010570   \n",
              "\n",
              "                      Previously_Insured  Vehicle_Age  Vehicle_Damage  \\\n",
              "id                              0.002457     0.000878       -0.001507   \n",
              "Age                            -0.254682     0.765790        0.267534   \n",
              "Driving_License                 0.014969    -0.037306       -0.016622   \n",
              "Region_Code                    -0.024659     0.043778        0.028235   \n",
              "Previously_Insured              1.000000    -0.380873       -0.824143   \n",
              "Vehicle_Age                    -0.380873     1.000000        0.396873   \n",
              "Vehicle_Damage                 -0.824143     0.396873        1.000000   \n",
              "Annual_Premium                  0.004269     0.041580        0.009349   \n",
              "Policy_Sales_Channel            0.219381    -0.550663       -0.224377   \n",
              "Vintage                         0.002537    -0.001892       -0.002064   \n",
              "Response                       -0.341170     0.221874        0.354400   \n",
              "\n",
              "                      Annual_Premium  Policy_Sales_Channel   Vintage  Response  \n",
              "id                          0.003027             -0.002837 -0.000630 -0.001368  \n",
              "Age                         0.067507             -0.577826 -0.001264  0.111147  \n",
              "Driving_License            -0.011906              0.043731 -0.000848  0.010155  \n",
              "Region_Code                -0.010588             -0.042420 -0.002750  0.010570  \n",
              "Previously_Insured          0.004269              0.219381  0.002537 -0.341170  \n",
              "Vehicle_Age                 0.041580             -0.550663 -0.001892  0.221874  \n",
              "Vehicle_Damage              0.009349             -0.224377 -0.002064  0.354400  \n",
              "Annual_Premium              1.000000             -0.113247 -0.000608  0.022575  \n",
              "Policy_Sales_Channel       -0.113247              1.000000  0.000002 -0.139042  \n",
              "Vintage                    -0.000608              0.000002  1.000000 -0.001050  \n",
              "Response                    0.022575             -0.139042 -0.001050  1.000000  "
            ]
          },
          "metadata": {
            "tags": []
          },
          "execution_count": 17
        }
      ]
    },
    {
      "cell_type": "code",
      "metadata": {
        "colab": {
          "base_uri": "https://localhost:8080/",
          "height": 1000
        },
        "id": "HC4xSqIOxI75",
        "outputId": "425d90f3-5788-4d48-b1f6-65229c9409f1"
      },
      "source": [
        "sns.set_style(\"darkgrid\")\n",
        "plt.figure(figsize=(20,20))\n",
        "sns.heatmap(df.corr(), square=True, annot=True)"
      ],
      "execution_count": null,
      "outputs": [
        {
          "output_type": "execute_result",
          "data": {
            "text/plain": [
              "<matplotlib.axes._subplots.AxesSubplot at 0xe351d10>"
            ]
          },
          "metadata": {
            "tags": []
          },
          "execution_count": 18
        },
        {
          "output_type": "display_data",
          "data": {
            "image/png": "[encoded data removed]",
            "text/plain": [
              "<Figure size 1440x1440 with 2 Axes>"
            ]
          },
          "metadata": {
            "tags": []
          }
        }
      ]
    },
    {
      "cell_type": "code",
      "metadata": {
        "id": "P7pcAeqNxN-c",
        "outputId": "57e81b33-503a-4dfd-9630-14f5119c710b"
      },
      "source": [
        "df1=df.drop(['id','Driving_License','Region_Code','Annual_Premium','Vintage','Gender'],axis = 1)\n",
        "df1.dropna()\n",
        "df1.head()\n"
      ],
      "execution_count": null,
      "outputs": [
        {
          "output_type": "execute_result",
          "data": {
            "text/html": [
              "<div>\n",
              "<style scoped>\n",
              "    .dataframe tbody tr th:only-of-type {\n",
              "        vertical-align: middle;\n",
              "    }\n",
              "\n",
              "    .dataframe tbody tr th {\n",
              "        vertical-align: top;\n",
              "    }\n",
              "\n",
              "    .dataframe thead th {\n",
              "        text-align: right;\n",
              "    }\n",
              "</style>\n",
              "<table border=\"1\" class=\"dataframe\">\n",
              "  <thead>\n",
              "    <tr style=\"text-align: right;\">\n",
              "      <th></th>\n",
              "      <th>Age</th>\n",
              "      <th>Previously_Insured</th>\n",
              "      <th>Vehicle_Age</th>\n",
              "      <th>Vehicle_Damage</th>\n",
              "      <th>Policy_Sales_Channel</th>\n",
              "      <th>Response</th>\n",
              "    </tr>\n",
              "  </thead>\n",
              "  <tbody>\n",
              "    <tr>\n",
              "      <th>0</th>\n",
              "      <td>44</td>\n",
              "      <td>0</td>\n",
              "      <td>1.0</td>\n",
              "      <td>1.0</td>\n",
              "      <td>26.0</td>\n",
              "      <td>1</td>\n",
              "    </tr>\n",
              "    <tr>\n",
              "      <th>1</th>\n",
              "      <td>76</td>\n",
              "      <td>0</td>\n",
              "      <td>0.0</td>\n",
              "      <td>0.0</td>\n",
              "      <td>26.0</td>\n",
              "      <td>0</td>\n",
              "    </tr>\n",
              "    <tr>\n",
              "      <th>2</th>\n",
              "      <td>47</td>\n",
              "      <td>0</td>\n",
              "      <td>1.0</td>\n",
              "      <td>1.0</td>\n",
              "      <td>26.0</td>\n",
              "      <td>1</td>\n",
              "    </tr>\n",
              "    <tr>\n",
              "      <th>3</th>\n",
              "      <td>21</td>\n",
              "      <td>1</td>\n",
              "      <td>-1.0</td>\n",
              "      <td>0.0</td>\n",
              "      <td>152.0</td>\n",
              "      <td>0</td>\n",
              "    </tr>\n",
              "    <tr>\n",
              "      <th>4</th>\n",
              "      <td>29</td>\n",
              "      <td>1</td>\n",
              "      <td>-1.0</td>\n",
              "      <td>0.0</td>\n",
              "      <td>152.0</td>\n",
              "      <td>0</td>\n",
              "    </tr>\n",
              "  </tbody>\n",
              "</table>\n",
              "</div>"
            ],
            "text/plain": [
              "   Age  Previously_Insured  Vehicle_Age  Vehicle_Damage  Policy_Sales_Channel  \\\n",
              "0   44                   0          1.0             1.0                  26.0   \n",
              "1   76                   0          0.0             0.0                  26.0   \n",
              "2   47                   0          1.0             1.0                  26.0   \n",
              "3   21                   1         -1.0             0.0                 152.0   \n",
              "4   29                   1         -1.0             0.0                 152.0   \n",
              "\n",
              "   Response  \n",
              "0         1  \n",
              "1         0  \n",
              "2         1  \n",
              "3         0  \n",
              "4         0  "
            ]
          },
          "metadata": {
            "tags": []
          },
          "execution_count": 19
        }
      ]
    },
    {
      "cell_type": "code",
      "metadata": {
        "colab": {
          "base_uri": "https://localhost:8080/",
          "height": 330
        },
        "id": "GKXpk8-jWCAS",
        "outputId": "ebeb44ae-e19f-4a8d-d452-703decb5e8af"
      },
      "source": [
        "ax = sns.countplot(x='Response', data=df)\n",
        "print(df['Response'].value_counts())"
      ],
      "execution_count": null,
      "outputs": [
        {
          "output_type": "stream",
          "text": [
            "0    334399\n",
            "1     46710\n",
            "Name: Response, dtype: int64\n"
          ],
          "name": "stdout"
        },
        {
          "output_type": "display_data",
          "data": {
            "image/png": "[encoded data removed]",
            "text/plain": [
              "<Figure size 432x288 with 1 Axes>"
            ]
          },
          "metadata": {
            "tags": []
          }
        }
      ]
    },
    {
      "cell_type": "markdown",
      "metadata": {
        "id": "tAGbFRY4wms4"
      },
      "source": [
        "# Under Sampling"
      ]
    },
    {
      "cell_type": "code",
      "metadata": {
        "colab": {
          "base_uri": "https://localhost:8080/"
        },
        "id": "AnAX0RYSWDWo",
        "outputId": "5635e592-6d39-4516-c9fe-f1497b443bae"
      },
      "source": [
        "minority_class_len = len(df1[df1['Response'] == 1])\n",
        "print(minority_class_len)"
      ],
      "execution_count": null,
      "outputs": [
        {
          "output_type": "stream",
          "text": [
            "46710\n"
          ],
          "name": "stdout"
        }
      ]
    },
    {
      "cell_type": "code",
      "metadata": {
        "colab": {
          "base_uri": "https://localhost:8080/"
        },
        "id": "4n0zoeLMWGBd",
        "outputId": "90fe52b6-d91d-4235-f327-34322836acf9"
      },
      "source": [
        "majority_class_indices = df1[df1['Response'] == 0].index\n",
        "print(majority_class_indices)"
      ],
      "execution_count": null,
      "outputs": [
        {
          "output_type": "stream",
          "text": [
            "Int64Index([     1,      3,      4,      5,      6,      8,      9,     11,\n",
            "                12,     13,\n",
            "            ...\n",
            "            381099, 381100, 381101, 381102, 381103, 381104, 381105, 381106,\n",
            "            381107, 381108],\n",
            "           dtype='int64', length=334399)\n"
          ],
          "name": "stdout"
        }
      ]
    },
    {
      "cell_type": "code",
      "metadata": {
        "colab": {
          "base_uri": "https://localhost:8080/"
        },
        "id": "zGklYj2gWLMP",
        "outputId": "ee14be6a-9bc6-4843-de85-eb0e34d70455"
      },
      "source": [
        "random_majority_indices = np.random.choice(majority_class_indices,minority_class_len, replace=False)\n",
        "print(len(random_majority_indices))"
      ],
      "execution_count": null,
      "outputs": [
        {
          "output_type": "stream",
          "text": [
            "46710\n"
          ],
          "name": "stdout"
        }
      ]
    },
    {
      "cell_type": "code",
      "metadata": {
        "colab": {
          "base_uri": "https://localhost:8080/"
        },
        "id": "sTPYNaIPWMGI",
        "outputId": "016cb9f9-6136-48e2-ffc5-b1e7705ed59c"
      },
      "source": [
        "minority_class_indices = df1[df1['Response'] == 1].index\n",
        "print(minority_class_indices)"
      ],
      "execution_count": null,
      "outputs": [
        {
          "output_type": "stream",
          "text": [
            "Int64Index([     0,      2,      7,     10,     15,     19,     26,     29,\n",
            "                57,     69,\n",
            "            ...\n",
            "            380987, 380997, 381026, 381029, 381031, 381057, 381061, 381073,\n",
            "            381075, 381097],\n",
            "           dtype='int64', length=46710)\n"
          ],
          "name": "stdout"
        }
      ]
    },
    {
      "cell_type": "code",
      "metadata": {
        "id": "I2-h8RJLWQR4"
      },
      "source": [
        "under_sample_indices = np.concatenate([minority_class_indices,random_majority_indices])"
      ],
      "execution_count": null,
      "outputs": []
    },
    {
      "cell_type": "code",
      "metadata": {
        "id": "2-zVg0hPXlHx"
      },
      "source": [
        "under_sample = df1.loc[under_sample_indices]"
      ],
      "execution_count": null,
      "outputs": []
    },
    {
      "cell_type": "code",
      "metadata": {
        "colab": {
          "base_uri": "https://localhost:8080/",
          "height": 296
        },
        "id": "ItVqDyCOHL-m",
        "outputId": "35420105-e949-4a37-e69b-4f3ca3c90823"
      },
      "source": [
        "sns.countplot(x='Response', data=under_sample)"
      ],
      "execution_count": null,
      "outputs": [
        {
          "output_type": "execute_result",
          "data": {
            "text/plain": [
              "<matplotlib.axes._subplots.AxesSubplot at 0xe3343d0>"
            ]
          },
          "metadata": {
            "tags": []
          },
          "execution_count": 27
        },
        {
          "output_type": "display_data",
          "data": {
            "image/png": "[encoded data removed]",
            "text/plain": [
              "<Figure size 432x288 with 1 Axes>"
            ]
          },
          "metadata": {
            "tags": []
          }
        }
      ]
    },
    {
      "cell_type": "code",
      "metadata": {
        "id": "_2LfPyvFWRN_"
      },
      "source": [
        "y = under_sample['Response']\n",
        "\n",
        "X = under_sample.drop(['Response'],axis = 1)"
      ],
      "execution_count": null,
      "outputs": []
    },
    {
      "cell_type": "code",
      "metadata": {
        "id": "r5neXuc-WUrZ"
      },
      "source": [
        "X_train, X_test, y_train, y_test = train_test_split(X, y, test_size=0.3,random_state=42)"
      ],
      "execution_count": null,
      "outputs": []
    },
    {
      "cell_type": "code",
      "metadata": {
        "id": "-sJE3YT9wms5",
        "outputId": "94ad7940-5526-4abf-dabb-b0845b799b16"
      },
      "source": [
        "X.shape"
      ],
      "execution_count": null,
      "outputs": [
        {
          "output_type": "execute_result",
          "data": {
            "text/plain": [
              "(93420, 5)"
            ]
          },
          "metadata": {
            "tags": []
          },
          "execution_count": 30
        }
      ]
    },
    {
      "cell_type": "code",
      "metadata": {
        "id": "14eju-0lWYeq"
      },
      "source": [
        "def generate_model_report(y_actual, y_predicted):\n",
        "    print(\"Accuracy = \" , accuracy_score(y_actual, y_predicted))\n",
        "    print(\"Precision = \" ,precision_score(y_actual, y_predicted))\n",
        "    print(\"Recall = \" ,recall_score(y_actual, y_predicted))\n",
        "    print(\"F1 Score = \" ,f1_score(y_actual, y_predicted))\n",
        "    pass"
      ],
      "execution_count": null,
      "outputs": []
    },
    {
      "cell_type": "code",
      "metadata": {
        "id": "rNFHetUbWajI"
      },
      "source": [
        "def generate_auc_roc_curve(clf, X_test):\n",
        "    y_pred_proba = clf.predict_proba(X_test)[:, 1]\n",
        "    fpr, tpr, thresholds = roc_curve(y_test,  y_pred_proba)\n",
        "    auc = roc_auc_score(y_test, y_pred_proba)\n",
        "    plt.plot(fpr,tpr,label=\"AUC ROC Curve with Area Under the curve =\"+str(auc))\n",
        "    plt.legend(loc=4)\n",
        "    plt.show()\n",
        "    pass"
      ],
      "execution_count": null,
      "outputs": []
    },
    {
      "cell_type": "code",
      "metadata": {
        "id": "JfKzIoYbWd4w"
      },
      "source": [
        "cv = RepeatedKFold(n_splits = 5, n_repeats = 1, random_state = 1)"
      ],
      "execution_count": null,
      "outputs": []
    },
    {
      "cell_type": "markdown",
      "metadata": {
        "id": "0YHijyXeWirq"
      },
      "source": [
        "**Logistic Regression**\n",
        "\n"
      ]
    },
    {
      "cell_type": "code",
      "metadata": {
        "colab": {
          "base_uri": "https://localhost:8080/"
        },
        "id": "uZRNEtH-WhYi",
        "outputId": "c4e2b64f-c652-491d-945b-294787c6604b"
      },
      "source": [
        "from sklearn.linear_model import LogisticRegression \n",
        "Lr_model = LogisticRegression()\n",
        "solvers = ['newton-cg', 'lbfgs', 'liblinear']\n",
        "penalty = ['l2']\n",
        "c_values = [100, 10, 1.0, 0.1, 0.01]\n",
        "grid = dict(solver=solvers,penalty=penalty,C=c_values)\n",
        "grid_search = GridSearchCV(estimator= Lr_model, param_grid=grid, n_jobs=-1, cv=cv, scoring='accuracy',error_score=0)\n",
        "grid_result = grid_search.fit(X_train, y_train)\n",
        "print(\"Best: %f using %s\" % (grid_result.best_score_, grid_result.best_params_))\n"
      ],
      "execution_count": null,
      "outputs": [
        {
          "output_type": "stream",
          "text": [
            "Best: 0.783665 using {'C': 0.01, 'penalty': 'l2', 'solver': 'lbfgs'}\n"
          ],
          "name": "stdout"
        }
      ]
    },
    {
      "cell_type": "code",
      "metadata": {
        "colab": {
          "base_uri": "https://localhost:8080/"
        },
        "id": "th4fCDO3W_WP",
        "outputId": "8ba40119-c16e-4986-fefe-1199c96c1541"
      },
      "source": [
        "Lr = LogisticRegression(C = 0.01,penalty = 'l2',solver = 'lbfgs')\n",
        "Lr.fit(X_train,y_train)"
      ],
      "execution_count": null,
      "outputs": [
        {
          "output_type": "execute_result",
          "data": {
            "text/plain": [
              "LogisticRegression(C=0.01)"
            ]
          },
          "metadata": {
            "tags": []
          },
          "execution_count": 47
        }
      ]
    },
    {
      "cell_type": "code",
      "metadata": {
        "id": "ApK0bW1KYn7y"
      },
      "source": [
        "y_pred_Lr = Lr.predict(X_test) "
      ],
      "execution_count": null,
      "outputs": []
    },
    {
      "cell_type": "code",
      "metadata": {
        "colab": {
          "base_uri": "https://localhost:8080/"
        },
        "id": "-DrCcLYvYqcJ",
        "outputId": "12eb5ddc-098d-4b18-d0b5-b93a38adec70"
      },
      "source": [
        "cm_Lr = confusion_matrix(y_test, y_pred_Lr) \n",
        "  \n",
        "print (\"Confusion Matrix : \\n\", cm_Lr)"
      ],
      "execution_count": null,
      "outputs": [
        {
          "output_type": "stream",
          "text": [
            "Confusion Matrix : \n",
            " [[ 8240  5773]\n",
            " [  339 13674]]\n"
          ],
          "name": "stdout"
        }
      ]
    },
    {
      "cell_type": "code",
      "metadata": {
        "colab": {
          "base_uri": "https://localhost:8080/"
        },
        "id": "0nEUM0zGYuw_",
        "outputId": "7fdb24e9-fd0f-49b0-b537-eaa28f967317"
      },
      "source": [
        "generate_model_report(y_test, y_pred_Lr)"
      ],
      "execution_count": null,
      "outputs": [
        {
          "output_type": "stream",
          "text": [
            "Accuracy =  0.7819167915507029\n",
            "Precision =  0.7031418727824343\n",
            "Recall =  0.9758081781203168\n",
            "F1 Score =  0.8173341303048416\n"
          ],
          "name": "stdout"
        }
      ]
    },
    {
      "cell_type": "code",
      "metadata": {
        "colab": {
          "base_uri": "https://localhost:8080/",
          "height": 265
        },
        "id": "INlKLPuXYwLr",
        "outputId": "fc93a833-6444-4d62-d6c7-ad5497f78b30"
      },
      "source": [
        "generate_auc_roc_curve(Lr, X_test)"
      ],
      "execution_count": null,
      "outputs": [
        {
          "output_type": "display_data",
          "data": {
            "image/png": "[encoded data removed]",
            "text/plain": [
              "<Figure size 432x288 with 1 Axes>"
            ]
          },
          "metadata": {
            "tags": []
          }
        }
      ]
    },
    {
      "cell_type": "markdown",
      "metadata": {
        "id": "EuQb-bHQYzqt"
      },
      "source": [
        "**Nearest Neighbor**"
      ]
    },
    {
      "cell_type": "code",
      "metadata": {
        "id": "iN87ILD6Y7O1"
      },
      "source": [
        "from sklearn.neighbors import KNeighborsClassifier\n",
        "knn_model = KNeighborsClassifier()\n",
        "n_neighbors = range(1, 21, 2)\n",
        "weights = ['uniform', 'distance']\n",
        "\n",
        "grid = dict(n_neighbors=n_neighbors,weights=weights)\n",
        "\n",
        "grid_search = GridSearchCV(estimator= knn_model, param_grid=grid, n_jobs=-1, cv=cv, scoring='accuracy',error_score=0)\n",
        "grid_result = grid_search.fit(X_train, y_train)\n",
        "\n",
        "print(\"Best: %f using %s\" % (grid_result.best_score_, grid_result.best_params_))"
      ],
      "execution_count": null,
      "outputs": []
    },
    {
      "cell_type": "code",
      "metadata": {
        "id": "nozEZcozi2al"
      },
      "source": [
        "knn = KNeighborsClassifier(n_neighbors=17, weights = 'distance')\n",
        "knn.fit(X_train,y_train)\n",
        "y_pred_knn = knn.predict(X_test)"
      ],
      "execution_count": null,
      "outputs": []
    },
    {
      "cell_type": "code",
      "metadata": {
        "colab": {
          "base_uri": "https://localhost:8080/"
        },
        "id": "guLD6E_5BGET",
        "outputId": "a8e60d84-6a18-49cc-b549-8992b3714039"
      },
      "source": [
        "cm_knn = confusion_matrix(y_test, y_pred_knn) \n",
        "  \n",
        "print (\"Confusion Matrix : \\n\", cm_knn)"
      ],
      "execution_count": null,
      "outputs": [
        {
          "output_type": "stream",
          "text": [
            "Confusion Matrix : \n",
            " [[ 9846  4167]\n",
            " [ 2019 11994]]\n"
          ],
          "name": "stdout"
        }
      ]
    },
    {
      "cell_type": "code",
      "metadata": {
        "colab": {
          "base_uri": "https://localhost:8080/",
          "height": 265
        },
        "id": "5zF2xqAIBRvf",
        "outputId": "3bf2e86a-46b1-433b-a986-ece0d1a09ccb"
      },
      "source": [
        "generate_auc_roc_curve(knn, X_test)"
      ],
      "execution_count": null,
      "outputs": [
        {
          "output_type": "display_data",
          "data": {
            "image/png": "[encoded data removed]",
            "text/plain": [
              "<Figure size 432x288 with 1 Axes>"
            ]
          },
          "metadata": {
            "tags": []
          }
        }
      ]
    },
    {
      "cell_type": "code",
      "metadata": {
        "id": "ZJOL9jRSwms6",
        "outputId": "b966b7a3-cd64-4d7e-fc33-887a16827b2e"
      },
      "source": [
        "generate_model_report(y_test, y_pred_knn)"
      ],
      "execution_count": null,
      "outputs": [
        {
          "output_type": "stream",
          "text": [
            "Accuracy =  0.7792763862128024\n",
            "Precision =  0.7421570447373306\n",
            "Recall =  0.8559195033183472\n",
            "F1 Score =  0.7949890634320939\n"
          ],
          "name": "stdout"
        }
      ]
    },
    {
      "cell_type": "markdown",
      "metadata": {
        "id": "kLDxrNzG9vZk"
      },
      "source": [
        "**Decision Tree**\n"
      ]
    },
    {
      "cell_type": "code",
      "metadata": {
        "colab": {
          "base_uri": "https://localhost:8080/"
        },
        "id": "sMhNpZAw9yOT",
        "outputId": "b55ddc5a-706c-4e15-b1e0-3f7bc17b6c01"
      },
      "source": [
        "from sklearn.ensemble import BaggingClassifier\n",
        "DT_model = BaggingClassifier()\n",
        "n_estimators = [10,50, 100,250,500,750, 1000]\n",
        "\n",
        "grid = dict(n_estimators=n_estimators)\n",
        "\n",
        "grid_search = GridSearchCV(estimator= DT_model, param_grid=grid, n_jobs=-1, cv=cv, scoring='accuracy',error_score=0)\n",
        "grid_result = grid_search.fit(X_train, y_train)\n",
        "print(\"Best: %f using %s\" % (grid_result.best_score_, grid_result.best_params_))"
      ],
      "execution_count": null,
      "outputs": [
        {
          "output_type": "stream",
          "text": [
            "/usr/local/lib/python3.6/dist-packages/joblib/externals/loky/process_executor.py:691: UserWarning: A worker stopped while some jobs were given to the executor. This can be caused by a too short worker timeout or by a memory leak.\n",
            "  \"timeout or by a memory leak.\", UserWarning\n"
          ],
          "name": "stderr"
        },
        {
          "output_type": "stream",
          "text": [
            "Best: 0.783430 using {'n_estimators': 500}\n"
          ],
          "name": "stdout"
        }
      ]
    },
    {
      "cell_type": "code",
      "metadata": {
        "id": "2UrYj5EJCF9a"
      },
      "source": [
        "\n",
        "DT = BaggingClassifier(n_estimators = 500)\n",
        "DT.fit(X_train,y_train)\n",
        "y_pred_DT = DT.predict(X_test)"
      ],
      "execution_count": null,
      "outputs": []
    },
    {
      "cell_type": "code",
      "metadata": {
        "colab": {
          "base_uri": "https://localhost:8080/"
        },
        "id": "h0MwIiXFCuys",
        "outputId": "a1b79656-9aa2-4ee2-e3d1-e2c61ea720a3"
      },
      "source": [
        "cm_DT = confusion_matrix(y_test, y_pred_DT) \n",
        "  \n",
        "print (\"Confusion Matrix : \\n\", cm_DT)"
      ],
      "execution_count": null,
      "outputs": [
        {
          "output_type": "stream",
          "text": [
            "Confusion Matrix : \n",
            " [[ 9476  4537]\n",
            " [ 1353 12660]]\n"
          ],
          "name": "stdout"
        }
      ]
    },
    {
      "cell_type": "code",
      "metadata": {
        "colab": {
          "base_uri": "https://localhost:8080/",
          "height": 265
        },
        "id": "xrfDMioIC2Ou",
        "outputId": "164fd9f4-e314-4994-89e0-e97bbebfad6a"
      },
      "source": [
        "generate_auc_roc_curve(DT, X_test)"
      ],
      "execution_count": null,
      "outputs": [
        {
          "output_type": "display_data",
          "data": {
            "image/png": "[encoded data removed]",
            "text/plain": [
              "<Figure size 432x288 with 1 Axes>"
            ]
          },
          "metadata": {
            "tags": []
          }
        }
      ]
    },
    {
      "cell_type": "code",
      "metadata": {
        "id": "Yx59OF4lwms7",
        "outputId": "e1d930af-d60e-4611-d26b-1b8d5b87c236"
      },
      "source": [
        "generate_model_report(y_test, y_pred_DT)"
      ],
      "execution_count": null,
      "outputs": [
        {
          "output_type": "stream",
          "text": [
            "Accuracy =  0.7898380075644045\n",
            "Precision =  0.736174914229226\n",
            "Recall =  0.9034467994005566\n",
            "F1 Score =  0.8112784363985902\n"
          ],
          "name": "stdout"
        }
      ]
    },
    {
      "cell_type": "markdown",
      "metadata": {
        "id": "_YwhekNtF-tW"
      },
      "source": [
        "**Random Forest**"
      ]
    },
    {
      "cell_type": "code",
      "metadata": {
        "colab": {
          "base_uri": "https://localhost:8080/"
        },
        "id": "HSkiI0jYGEpy",
        "outputId": "c8ffe391-c287-40e4-df0c-21c5c80ebc41"
      },
      "source": [
        "from sklearn.ensemble import RandomForestClassifier\n",
        "RF_model = RandomForestClassifier()\n",
        "n_estimators = [10, 100, 1000]\n",
        "max_depth = [40, 50,60,70,80]\n",
        "grid = dict(n_estimators=n_estimators,max_depth=max_depth)\n",
        "\n",
        "grid_search = GridSearchCV(estimator= RF_model, param_grid=grid, n_jobs=-1, cv=cv, scoring='accuracy',error_score=0)\n",
        "grid_result = grid_search.fit(X_train, y_train)\n",
        "print(\"Best: %f using %s\" % (grid_result.best_score_, grid_result.best_params_))"
      ],
      "execution_count": null,
      "outputs": [
        {
          "output_type": "stream",
          "text": [
            "Best: 0.783623 using {'max_depth': 60, 'n_estimators': 10}\n"
          ],
          "name": "stdout"
        }
      ]
    },
    {
      "cell_type": "code",
      "metadata": {
        "id": "-gTBDVnIOMYR"
      },
      "source": [
        "RF = RandomForestClassifier(n_estimators = 10, max_depth = 60 )\n",
        "RF.fit(X_train,y_train)\n",
        "y_pred_RF = RF.predict(X_test)"
      ],
      "execution_count": null,
      "outputs": []
    },
    {
      "cell_type": "code",
      "metadata": {
        "colab": {
          "base_uri": "https://localhost:8080/"
        },
        "id": "dmGcPCMiOfcS",
        "outputId": "d950abb7-319a-445c-fcad-d28fe96c54f4"
      },
      "source": [
        "cm_RF = confusion_matrix(y_test, y_pred_RF) \n",
        "  \n",
        "print (\"Confusion Matrix : \\n\", cm_RF)"
      ],
      "execution_count": null,
      "outputs": [
        {
          "output_type": "stream",
          "text": [
            "Confusion Matrix : \n",
            " [[ 9478  4535]\n",
            " [ 1367 12646]]\n"
          ],
          "name": "stdout"
        }
      ]
    },
    {
      "cell_type": "code",
      "metadata": {
        "colab": {
          "base_uri": "https://localhost:8080/",
          "height": 265
        },
        "id": "3-XKU2EjO2Ls",
        "outputId": "3a28c599-1ac6-48e8-e954-dbc25807cf8f"
      },
      "source": [
        "generate_auc_roc_curve(RF, X_test)"
      ],
      "execution_count": null,
      "outputs": [
        {
          "output_type": "display_data",
          "data": {
            "image/png": "[encoded data removed]",
            "text/plain": [
              "<Figure size 432x288 with 1 Axes>"
            ]
          },
          "metadata": {
            "tags": []
          }
        }
      ]
    },
    {
      "cell_type": "code",
      "metadata": {
        "id": "lQpfK04Dwms9",
        "outputId": "1a680c9b-25dd-4412-9e88-8fa4ff380f02"
      },
      "source": [
        "generate_model_report(y_test, y_pred_RF)"
      ],
      "execution_count": null,
      "outputs": [
        {
          "output_type": "stream",
          "text": [
            "Accuracy =  0.7894098337258261\n",
            "Precision =  0.7360456318025727\n",
            "Recall =  0.9024477271105402\n",
            "F1 Score =  0.8107969481310509\n"
          ],
          "name": "stdout"
        }
      ]
    },
    {
      "cell_type": "markdown",
      "metadata": {
        "id": "GIUat86pXsLa"
      },
      "source": [
        "**Gradient Boosted Classifier**\n"
      ]
    },
    {
      "cell_type": "code",
      "metadata": {
        "colab": {
          "base_uri": "https://localhost:8080/"
        },
        "id": "bdgdhlTGXvVH",
        "outputId": "5eeee429-c48c-4d99-cd97-869e511ce250"
      },
      "source": [
        "from sklearn.ensemble import GradientBoostingClassifier\n",
        "GBC_model = GradientBoostingClassifier()\n",
        "n_estimators = [10, 100, 1000]\n",
        "learning_rate = [0.001, 0.01, 0.1]\n",
        "max_depth = [3, 7, 9]\n",
        "grid = dict(learning_rate=learning_rate, n_estimators=n_estimators,max_depth=max_depth)\n",
        "\n",
        "grid_search = GridSearchCV(estimator=GBC_model, param_grid=grid, n_jobs=-1, cv=cv, scoring='accuracy',error_score=0)\n",
        "grid_result = grid_search.fit(X, y)\n",
        "\n",
        "print(\"Best: %f using %s\" % (grid_result.best_score_, grid_result.best_params_))"
      ],
      "execution_count": null,
      "outputs": [
        {
          "output_type": "stream",
          "text": [
            "Best: 0.797275 using {'learning_rate': 0.1, 'max_depth': 3, 'n_estimators': 100}\n"
          ],
          "name": "stdout"
        }
      ]
    },
    {
      "cell_type": "code",
      "metadata": {
        "id": "TCvGCPSRasom"
      },
      "source": [
        "\n",
        "GBC = GradientBoostingClassifier(learning_rate= 0.1,max_depth = 3,n_estimators = 100)"
      ],
      "execution_count": null,
      "outputs": []
    },
    {
      "cell_type": "code",
      "metadata": {
        "colab": {
          "base_uri": "https://localhost:8080/"
        },
        "id": "xWydEEj2bGkm",
        "outputId": "39b9c1b0-28e4-4487-f5c1-dcb22c73f057"
      },
      "source": [
        "GBC.fit(X_train,y_train)"
      ],
      "execution_count": null,
      "outputs": [
        {
          "output_type": "execute_result",
          "data": {
            "text/plain": [
              "GradientBoostingClassifier()"
            ]
          },
          "metadata": {
            "tags": []
          },
          "execution_count": 69
        }
      ]
    },
    {
      "cell_type": "code",
      "metadata": {
        "id": "utb1Nr0SbTEr"
      },
      "source": [
        "y_pred_GBC = GBC.predict(X_test)"
      ],
      "execution_count": null,
      "outputs": []
    },
    {
      "cell_type": "code",
      "metadata": {
        "colab": {
          "base_uri": "https://localhost:8080/"
        },
        "id": "jHTd8TNUbbNn",
        "outputId": "2cb05b5f-eb64-437c-b70c-cd64ba60df67"
      },
      "source": [
        "cm_GBC = confusion_matrix(y_test, y_pred_GBC) \n",
        "  \n",
        "print (\"Confusion Matrix : \\n\", cm_GBC)"
      ],
      "execution_count": null,
      "outputs": [
        {
          "output_type": "stream",
          "text": [
            "Confusion Matrix : \n",
            " [[ 9341  4672]\n",
            " [ 1115 12898]]\n"
          ],
          "name": "stdout"
        }
      ]
    },
    {
      "cell_type": "code",
      "metadata": {
        "colab": {
          "base_uri": "https://localhost:8080/",
          "height": 265
        },
        "id": "v597gPQRbinG",
        "outputId": "a8749e92-0706-4cc3-f4ea-b6c6a05239c4"
      },
      "source": [
        "generate_auc_roc_curve(GBC, X_test)"
      ],
      "execution_count": null,
      "outputs": [
        {
          "output_type": "display_data",
          "data": {
            "image/png": "[encoded data removed]",
            "text/plain": [
              "<Figure size 432x288 with 1 Axes>"
            ]
          },
          "metadata": {
            "tags": []
          }
        }
      ]
    },
    {
      "cell_type": "code",
      "metadata": {
        "id": "AgxyUhy0wms-",
        "outputId": "f4e63e8b-0d69-4717-a042-9d46d12f95d3"
      },
      "source": [
        "generate_model_report(y_test,y_pred_GBC)"
      ],
      "execution_count": null,
      "outputs": [
        {
          "output_type": "stream",
          "text": [
            "Accuracy =  0.7935131663455363\n",
            "Precision =  0.734092202618099\n",
            "Recall =  0.9204310283308357\n",
            "F1 Score =  0.8167685147072792\n"
          ],
          "name": "stdout"
        }
      ]
    },
    {
      "cell_type": "markdown",
      "metadata": {
        "id": "CQDOz92Tsun-"
      },
      "source": [
        "**Support Vector Classifier**"
      ]
    },
    {
      "cell_type": "code",
      "metadata": {
        "colab": {
          "base_uri": "https://localhost:8080/"
        },
        "id": "_GSGTucPs1jz",
        "outputId": "a6af10ea-b86a-433c-89c9-200d98351d35"
      },
      "source": [
        "from sklearn.svm import SVC\n",
        "SVC_model = SVC()\n",
        "C = [50, 10, 1.0, 0.1, 0.01]\n",
        "grid = dict(C=C)\n",
        "\n",
        "grid_search = GridSearchCV(estimator= SVC_model, param_grid=grid, n_jobs=-1, cv=cv, scoring='accuracy',error_score=0)\n",
        "grid_result = grid_search.fit(X_train, y_train)\n",
        "print(\"Best: %f using %s\" % (grid_result.best_score_, grid_result.best_params_))"
      ],
      "execution_count": null,
      "outputs": [
        {
          "output_type": "stream",
          "text": [
            "Best: 0.785601 using {'C': 50}\n"
          ],
          "name": "stdout"
        }
      ]
    },
    {
      "cell_type": "code",
      "metadata": {
        "id": "aDYrfn5tvfbh"
      },
      "source": [
        "from sklearn.svm import SVC\n",
        "svc = SVC(kernel = 'rbf',C = 50,probability = True)\n",
        "svc.fit(X_train,y_train)\n",
        "y_pred_svc = svc.predict(X_test)\n"
      ],
      "execution_count": null,
      "outputs": []
    },
    {
      "cell_type": "code",
      "metadata": {
        "id": "pBZPtZOEv__1"
      },
      "source": [
        "cm_svc = confusion_matrix(y_test, y_pred_svc) \n",
        "  \n",
        "print (\"Confusion Matrix : \\n\", cm_svc)"
      ],
      "execution_count": null,
      "outputs": []
    },
    {
      "cell_type": "code",
      "metadata": {
        "id": "ufDtDEIawGPy"
      },
      "source": [
        "generate_auc_roc_curve(svc, X_test)"
      ],
      "execution_count": null,
      "outputs": []
    },
    {
      "cell_type": "code",
      "metadata": {
        "id": "wKZnAmT3wms-"
      },
      "source": [
        "generate_model_report(y_test,y_pred_svc)"
      ],
      "execution_count": null,
      "outputs": []
    },
    {
      "cell_type": "markdown",
      "metadata": {
        "id": "W2dFNtQVwms-"
      },
      "source": [
        "# Naive Bayes"
      ]
    },
    {
      "cell_type": "code",
      "metadata": {
        "id": "qT5CzOoRwms-",
        "outputId": "b1671001-4438-4262-b5b6-a207611b06a9"
      },
      "source": [
        "from sklearn.naive_bayes import BernoulliNB \n",
        "Bnb = BernoulliNB() \n",
        "Bnb.fit(X_train, y_train) "
      ],
      "execution_count": null,
      "outputs": [
        {
          "output_type": "execute_result",
          "data": {
            "text/plain": [
              "BernoulliNB()"
            ]
          },
          "metadata": {
            "tags": []
          },
          "execution_count": 39
        }
      ]
    },
    {
      "cell_type": "code",
      "metadata": {
        "id": "4eu_uCwRwms-"
      },
      "source": [
        "y_pred_nb = Bnb.predict(X_test)"
      ],
      "execution_count": null,
      "outputs": []
    },
    {
      "cell_type": "code",
      "metadata": {
        "id": "Q4bwy-akwms-",
        "outputId": "5fbcead4-5894-41cf-cd39-8a1eab38cf46"
      },
      "source": [
        "cm_nb = confusion_matrix(y_test, y_pred_nb) \n",
        "  \n",
        "print (\"Confusion Matrix : \\n\", cm_nb)"
      ],
      "execution_count": null,
      "outputs": [
        {
          "output_type": "stream",
          "text": [
            "Confusion Matrix : \n",
            " [[ 8233  5780]\n",
            " [  334 13679]]\n"
          ],
          "name": "stdout"
        }
      ]
    },
    {
      "cell_type": "code",
      "metadata": {
        "id": "1UNnLJr6wms_",
        "outputId": "c2fa16ba-aa34-45c7-d54e-6717e2ddaad7"
      },
      "source": [
        "generate_auc_roc_curve(Bnb, X_test)"
      ],
      "execution_count": null,
      "outputs": [
        {
          "output_type": "display_data",
          "data": {
            "image/png": "[encoded data removed]",
            "text/plain": [
              "<Figure size 432x288 with 1 Axes>"
            ]
          },
          "metadata": {
            "tags": []
          }
        }
      ]
    },
    {
      "cell_type": "code",
      "metadata": {
        "id": "yJt_5erDwms_"
      },
      "source": [
        ""
      ],
      "execution_count": null,
      "outputs": []
    }
  ]
}